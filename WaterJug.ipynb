{
  "nbformat": 4,
  "nbformat_minor": 0,
  "metadata": {
    "colab": {
      "provenance": []
    },
    "kernelspec": {
      "name": "python3",
      "display_name": "Python 3"
    },
    "language_info": {
      "name": "python"
    }
  },
  "cells": [
    {
      "cell_type": "code",
      "execution_count": 5,
      "metadata": {
        "colab": {
          "base_uri": "https://localhost:8080/"
        },
        "id": "qKLF_eMyAQeq",
        "outputId": "b47f4a88-4209-4e4d-bd91-7d63ada8eedf"
      },
      "outputs": [
        {
          "output_type": "stream",
          "name": "stdout",
          "text": [
            "Path from initial state to solution state ::\n",
            "( 0 , 0 )\n",
            "( 0 , 3 )\n",
            "( 4 , 0 )\n",
            "( 4 , 3 )\n",
            "( 3 , 0 )\n",
            "( 1 , 3 )\n",
            "( 3 , 3 )\n",
            "( 4 , 2 )\n",
            "( 0 , 2 )\n"
          ]
        }
      ],
      "source": [
        "from collections import deque\n",
        "def Solution(a, b, target):\n",
        "\tm = {}\n",
        "\tisSolvable = False\n",
        "\tpath = []\n",
        "\n",
        "\tq = deque()\n",
        "\n",
        "\t#Initializing with jugs being empty\n",
        "\tq.append((0, 0))\n",
        "\n",
        "\twhile (len(q) > 0):\n",
        "\n",
        "\t\t# Current state\n",
        "\t\tu = q.popleft()\n",
        "\t\tif ((u[0], u[1]) in m):\n",
        "\t\t\tcontinue\n",
        "\t\tif ((u[0] > a or u[1] > b or\n",
        "\t\t\tu[0] < 0 or u[1] < 0)):\n",
        "\t\t\tcontinue\n",
        "\t\tpath.append([u[0], u[1]])\n",
        "\n",
        "\t\tm[(u[0], u[1])] = 1\n",
        "\n",
        "\t\tif (u[0] == target or u[1] == target):\n",
        "\t\t\tisSolvable = True\n",
        "\n",
        "\t\t\tif (u[0] == target):\n",
        "\t\t\t\tif (u[1] != 0):\n",
        "\t\t\t\t\tpath.append([u[0], 0])\n",
        "\t\t\telse:\n",
        "\t\t\t\tif (u[0] != 0):\n",
        "\n",
        "\t\t\t\t\tpath.append([0, u[1]])\n",
        "\n",
        "\t\t\tsz = len(path)\n",
        "\t\t\tfor i in range(sz):\n",
        "\t\t\t\tprint(\"(\", path[i][0], \",\",\n",
        "\t\t\t\t\tpath[i][1], \")\")\n",
        "\t\t\tbreak\n",
        "\n",
        "\t\tq.append([u[0], b]) # Fill Jug2\n",
        "\t\tq.append([a, u[1]]) # Fill Jug1\n",
        "\n",
        "\t\tfor ap in range(max(a, b) + 1):\n",
        "\t\t\tc = u[0] + ap\n",
        "\t\t\td = u[1] - ap\n",
        "\n",
        "\t\t\tif (c == a or (d == 0 and d >= 0)):\n",
        "\t\t\t\tq.append([c, d])\n",
        "\n",
        "\t\t\tc = u[0] - ap\n",
        "\t\t\td = u[1] + ap\n",
        "\n",
        "\t\t\tif ((c == 0 and c >= 0) or d == b):\n",
        "\t\t\t\tq.append([c, d])\n",
        "\n",
        "\t\tq.append([a, 0])\n",
        "\n",
        "\t\tq.append([0, b])\n",
        "\n",
        "\tif (not isSolvable):\n",
        "\t\tprint(\"Solution not possible\")\n",
        "\n",
        "if __name__ == '__main__':\n",
        "\n",
        "\tJug1, Jug2, target = 4, 3, 2\n",
        "\tprint(\"Path from initial state \"\n",
        "\t\t\"to solution state ::\")\n",
        "\n",
        "\tSolution(Jug1, Jug2, target)"
      ]
    },
    {
      "cell_type": "code",
      "source": [],
      "metadata": {
        "id": "kGBKL3XYAdXi"
      },
      "execution_count": null,
      "outputs": []
    }
  ]
}